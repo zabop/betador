{
 "cells": [
  {
   "cell_type": "code",
   "execution_count": 18,
   "metadata": {},
   "outputs": [],
   "source": [
    "from lightkurve import TessTargetPixelFile\n",
    "import matplotlib.pyplot as plt\n",
    "import numpy as np"
   ]
  },
  {
   "cell_type": "code",
   "execution_count": 19,
   "metadata": {},
   "outputs": [],
   "source": [
    "sector1ffn='tess-s0001-4-4_83.40630967798376_-62.48977125108528_64x64_astrocut.fits'\n",
    "tpf_s1 = TessTargetPixelFile(sector1ffn)"
   ]
  },
  {
   "cell_type": "code",
   "execution_count": 20,
   "metadata": {},
   "outputs": [
    {
     "data": {
      "text/plain": [
       "83.40630967798376"
      ]
     },
     "execution_count": 20,
     "metadata": {},
     "output_type": "execute_result"
    }
   ],
   "source": [
    "tpf_s1.ra"
   ]
  },
  {
   "cell_type": "code",
   "execution_count": 21,
   "metadata": {},
   "outputs": [
    {
     "data": {
      "text/plain": [
       "-62.48977125108528"
      ]
     },
     "execution_count": 21,
     "metadata": {},
     "output_type": "execute_result"
    }
   ],
   "source": [
    "tpf_s1.dec"
   ]
  },
  {
   "cell_type": "code",
   "execution_count": 33,
   "metadata": {},
   "outputs": [
    {
     "data": {
      "text/plain": [
       "(array([[[97.62814092, 97.63659682, 97.64505003, ..., 98.13905958,\n",
       "          98.14735301, 98.15564381],\n",
       "         [97.63659682, 97.64505003, 97.65350055, ..., 98.14735301,\n",
       "          98.15564381, 98.16393197],\n",
       "         [97.64505003, 97.65350055, 97.66194838, ..., 98.15564381,\n",
       "          98.16393197, 98.1722175 ],\n",
       "         ...,\n",
       "         [98.13905958, 98.14735301, 98.15564381, ..., 98.64016922,\n",
       "          98.64830357, 98.65643533],\n",
       "         [98.14735301, 98.15564381, 98.16393197, ..., 98.64830357,\n",
       "          98.65643533, 98.66456452],\n",
       "         [98.15564381, 98.16393197, 98.1722175 , ..., 98.65643533,\n",
       "          98.66456452, 98.67269113]],\n",
       " \n",
       "        [[97.62814092, 97.63659682, 97.64505003, ..., 98.13905958,\n",
       "          98.14735301, 98.15564381],\n",
       "         [97.63659682, 97.64505003, 97.65350055, ..., 98.14735301,\n",
       "          98.15564381, 98.16393197],\n",
       "         [97.64505003, 97.65350055, 97.66194838, ..., 98.15564381,\n",
       "          98.16393197, 98.1722175 ],\n",
       "         ...,\n",
       "         [98.13905958, 98.14735301, 98.15564381, ..., 98.64016922,\n",
       "          98.64830357, 98.65643533],\n",
       "         [98.14735301, 98.15564381, 98.16393197, ..., 98.64830357,\n",
       "          98.65643533, 98.66456452],\n",
       "         [98.15564381, 98.16393197, 98.1722175 , ..., 98.65643533,\n",
       "          98.66456452, 98.67269113]],\n",
       " \n",
       "        [[97.62814092, 97.63659682, 97.64505003, ..., 98.13905958,\n",
       "          98.14735301, 98.15564381],\n",
       "         [97.63659682, 97.64505003, 97.65350055, ..., 98.14735301,\n",
       "          98.15564381, 98.16393197],\n",
       "         [97.64505003, 97.65350055, 97.66194838, ..., 98.15564381,\n",
       "          98.16393197, 98.1722175 ],\n",
       "         ...,\n",
       "         [98.13905958, 98.14735301, 98.15564381, ..., 98.64016922,\n",
       "          98.64830357, 98.65643533],\n",
       "         [98.14735301, 98.15564381, 98.16393197, ..., 98.64830357,\n",
       "          98.65643533, 98.66456452],\n",
       "         [98.15564381, 98.16393197, 98.1722175 , ..., 98.65643533,\n",
       "          98.66456452, 98.67269113]],\n",
       " \n",
       "        ...,\n",
       " \n",
       "        [[97.62814092, 97.63659682, 97.64505003, ..., 98.13905958,\n",
       "          98.14735301, 98.15564381],\n",
       "         [97.63659682, 97.64505003, 97.65350055, ..., 98.14735301,\n",
       "          98.15564381, 98.16393197],\n",
       "         [97.64505003, 97.65350055, 97.66194838, ..., 98.15564381,\n",
       "          98.16393197, 98.1722175 ],\n",
       "         ...,\n",
       "         [98.13905958, 98.14735301, 98.15564381, ..., 98.64016922,\n",
       "          98.64830357, 98.65643533],\n",
       "         [98.14735301, 98.15564381, 98.16393197, ..., 98.64830357,\n",
       "          98.65643533, 98.66456452],\n",
       "         [98.15564381, 98.16393197, 98.1722175 , ..., 98.65643533,\n",
       "          98.66456452, 98.67269113]],\n",
       " \n",
       "        [[97.62814092, 97.63659682, 97.64505003, ..., 98.13905958,\n",
       "          98.14735301, 98.15564381],\n",
       "         [97.63659682, 97.64505003, 97.65350055, ..., 98.14735301,\n",
       "          98.15564381, 98.16393197],\n",
       "         [97.64505003, 97.65350055, 97.66194838, ..., 98.15564381,\n",
       "          98.16393197, 98.1722175 ],\n",
       "         ...,\n",
       "         [98.13905958, 98.14735301, 98.15564381, ..., 98.64016922,\n",
       "          98.64830357, 98.65643533],\n",
       "         [98.14735301, 98.15564381, 98.16393197, ..., 98.64830357,\n",
       "          98.65643533, 98.66456452],\n",
       "         [98.15564381, 98.16393197, 98.1722175 , ..., 98.65643533,\n",
       "          98.66456452, 98.67269113]],\n",
       " \n",
       "        [[97.62814092, 97.63659682, 97.64505003, ..., 98.13905958,\n",
       "          98.14735301, 98.15564381],\n",
       "         [97.63659682, 97.64505003, 97.65350055, ..., 98.14735301,\n",
       "          98.15564381, 98.16393197],\n",
       "         [97.64505003, 97.65350055, 97.66194838, ..., 98.15564381,\n",
       "          98.16393197, 98.1722175 ],\n",
       "         ...,\n",
       "         [98.13905958, 98.14735301, 98.15564381, ..., 98.64016922,\n",
       "          98.64830357, 98.65643533],\n",
       "         [98.14735301, 98.15564381, 98.16393197, ..., 98.64830357,\n",
       "          98.65643533, 98.66456452],\n",
       "         [98.15564381, 98.16393197, 98.1722175 , ..., 98.65643533,\n",
       "          98.66456452, 98.67269113]]]),\n",
       " array([[[-53.28095796, -53.27477301, -53.26858764, ..., -52.90292999,\n",
       "          -52.89672054, -52.89051071],\n",
       "         [-53.27477301, -53.26858764, -53.26240185, ..., -52.89672054,\n",
       "          -52.89051071, -52.88430049],\n",
       "         [-53.26858764, -53.26240185, -53.25621565, ..., -52.89051071,\n",
       "          -52.88430049, -52.87808989],\n",
       "         ...,\n",
       "         [-52.90292999, -52.89672054, -52.89051071, ..., -52.52347261,\n",
       "          -52.51724083, -52.51100869],\n",
       "         [-52.89672054, -52.89051071, -52.88430049, ..., -52.51724083,\n",
       "          -52.51100869, -52.50477621],\n",
       "         [-52.89051071, -52.88430049, -52.87808989, ..., -52.51100869,\n",
       "          -52.50477621, -52.49854338]],\n",
       " \n",
       "        [[-53.28095796, -53.27477301, -53.26858764, ..., -52.90292999,\n",
       "          -52.89672054, -52.89051071],\n",
       "         [-53.27477301, -53.26858764, -53.26240185, ..., -52.89672054,\n",
       "          -52.89051071, -52.88430049],\n",
       "         [-53.26858764, -53.26240185, -53.25621565, ..., -52.89051071,\n",
       "          -52.88430049, -52.87808989],\n",
       "         ...,\n",
       "         [-52.90292999, -52.89672054, -52.89051071, ..., -52.52347261,\n",
       "          -52.51724083, -52.51100869],\n",
       "         [-52.89672054, -52.89051071, -52.88430049, ..., -52.51724083,\n",
       "          -52.51100869, -52.50477621],\n",
       "         [-52.89051071, -52.88430049, -52.87808989, ..., -52.51100869,\n",
       "          -52.50477621, -52.49854338]],\n",
       " \n",
       "        [[-53.28095796, -53.27477301, -53.26858764, ..., -52.90292999,\n",
       "          -52.89672054, -52.89051071],\n",
       "         [-53.27477301, -53.26858764, -53.26240185, ..., -52.89672054,\n",
       "          -52.89051071, -52.88430049],\n",
       "         [-53.26858764, -53.26240185, -53.25621565, ..., -52.89051071,\n",
       "          -52.88430049, -52.87808989],\n",
       "         ...,\n",
       "         [-52.90292999, -52.89672054, -52.89051071, ..., -52.52347261,\n",
       "          -52.51724083, -52.51100869],\n",
       "         [-52.89672054, -52.89051071, -52.88430049, ..., -52.51724083,\n",
       "          -52.51100869, -52.50477621],\n",
       "         [-52.89051071, -52.88430049, -52.87808989, ..., -52.51100869,\n",
       "          -52.50477621, -52.49854338]],\n",
       " \n",
       "        ...,\n",
       " \n",
       "        [[-53.28095796, -53.27477301, -53.26858764, ..., -52.90292999,\n",
       "          -52.89672054, -52.89051071],\n",
       "         [-53.27477301, -53.26858764, -53.26240185, ..., -52.89672054,\n",
       "          -52.89051071, -52.88430049],\n",
       "         [-53.26858764, -53.26240185, -53.25621565, ..., -52.89051071,\n",
       "          -52.88430049, -52.87808989],\n",
       "         ...,\n",
       "         [-52.90292999, -52.89672054, -52.89051071, ..., -52.52347261,\n",
       "          -52.51724083, -52.51100869],\n",
       "         [-52.89672054, -52.89051071, -52.88430049, ..., -52.51724083,\n",
       "          -52.51100869, -52.50477621],\n",
       "         [-52.89051071, -52.88430049, -52.87808989, ..., -52.51100869,\n",
       "          -52.50477621, -52.49854338]],\n",
       " \n",
       "        [[-53.28095796, -53.27477301, -53.26858764, ..., -52.90292999,\n",
       "          -52.89672054, -52.89051071],\n",
       "         [-53.27477301, -53.26858764, -53.26240185, ..., -52.89672054,\n",
       "          -52.89051071, -52.88430049],\n",
       "         [-53.26858764, -53.26240185, -53.25621565, ..., -52.89051071,\n",
       "          -52.88430049, -52.87808989],\n",
       "         ...,\n",
       "         [-52.90292999, -52.89672054, -52.89051071, ..., -52.52347261,\n",
       "          -52.51724083, -52.51100869],\n",
       "         [-52.89672054, -52.89051071, -52.88430049, ..., -52.51724083,\n",
       "          -52.51100869, -52.50477621],\n",
       "         [-52.89051071, -52.88430049, -52.87808989, ..., -52.51100869,\n",
       "          -52.50477621, -52.49854338]],\n",
       " \n",
       "        [[-53.28095796, -53.27477301, -53.26858764, ..., -52.90292999,\n",
       "          -52.89672054, -52.89051071],\n",
       "         [-53.27477301, -53.26858764, -53.26240185, ..., -52.89672054,\n",
       "          -52.89051071, -52.88430049],\n",
       "         [-53.26858764, -53.26240185, -53.25621565, ..., -52.89051071,\n",
       "          -52.88430049, -52.87808989],\n",
       "         ...,\n",
       "         [-52.90292999, -52.89672054, -52.89051071, ..., -52.52347261,\n",
       "          -52.51724083, -52.51100869],\n",
       "         [-52.89672054, -52.89051071, -52.88430049, ..., -52.51724083,\n",
       "          -52.51100869, -52.50477621],\n",
       "         [-52.89051071, -52.88430049, -52.87808989, ..., -52.51100869,\n",
       "          -52.50477621, -52.49854338]]]))"
      ]
     },
     "execution_count": 33,
     "metadata": {},
     "output_type": "execute_result"
    }
   ],
   "source": [
    "tpf_s1.get_coordinates()"
   ]
  },
  {
   "cell_type": "code",
   "execution_count": 40,
   "metadata": {},
   "outputs": [
    {
     "data": {
      "text/plain": [
       "83.40630967798376"
      ]
     },
     "execution_count": 40,
     "metadata": {},
     "output_type": "execute_result"
    }
   ],
   "source": [
    "tpf_s1.ra"
   ]
  },
  {
   "cell_type": "code",
   "execution_count": 27,
   "metadata": {},
   "outputs": [
    {
     "name": "stderr",
     "output_type": "stream",
     "text": [
      "/home/szabopal/.local/lib/python3.5/site-packages/ipykernel_launcher.py:3: RuntimeWarning: divide by zero encountered in log\n",
      "  This is separate from the ipykernel package so we can avoid doing imports until\n",
      "/home/szabopal/.local/lib/python3.5/site-packages/ipykernel_launcher.py:3: RuntimeWarning: invalid value encountered in log\n",
      "  This is separate from the ipykernel package so we can avoid doing imports until\n",
      "/home/szabopal/.local/lib/python3.5/site-packages/astropy/visualization/wcsaxes/grid_paths.py:73: RuntimeWarning: invalid value encountered in greater\n",
      "  discontinuous = step[1:] > DISCONT_FACTOR * step[:-1]\n",
      "/home/szabopal/.local/lib/python3.5/site-packages/astropy/visualization/wcsaxes/grid_paths.py:73: RuntimeWarning: invalid value encountered in greater\n",
      "  discontinuous = step[1:] > DISCONT_FACTOR * step[:-1]\n",
      "/home/szabopal/.local/lib/python3.5/site-packages/astropy/visualization/wcsaxes/grid_paths.py:73: RuntimeWarning: invalid value encountered in greater\n",
      "  discontinuous = step[1:] > DISCONT_FACTOR * step[:-1]\n",
      "/home/szabopal/.local/lib/python3.5/site-packages/astropy/visualization/wcsaxes/grid_paths.py:73: RuntimeWarning: invalid value encountered in greater\n",
      "  discontinuous = step[1:] > DISCONT_FACTOR * step[:-1]\n"
     ]
    },
    {
     "data": {
      "image/png": "[encoded data removed]",
      "text/plain": [
       "<Figure size 360x360 with 1 Axes>"
      ]
     },
     "metadata": {
      "needs_background": "light"
     },
     "output_type": "display_data"
    }
   ],
   "source": [
    "fig = plt.figure(figsize=(5,5))\n",
    "fig.add_subplot(111, projection=tpf_s1.wcs)\n",
    "plt.pcolormesh(np.log(tpf_s1.flux[0]))\n",
    "plt.show()"
   ]
  },
  {
   "cell_type": "code",
   "execution_count": null,
   "metadata": {},
   "outputs": [],
   "source": []
  },
  {
   "cell_type": "code",
   "execution_count": null,
   "metadata": {},
   "outputs": [],
   "source": []
  }
 ],
 "metadata": {
  "kernelspec": {
   "display_name": "Python 3",
   "language": "python",
   "name": "python3"
  },
  "language_info": {
   "codemirror_mode": {
    "name": "ipython",
    "version": 3
   },
   "file_extension": ".py",
   "mimetype": "text/x-python",
   "name": "python",
   "nbconvert_exporter": "python",
   "pygments_lexer": "ipython3",
   "version": "3.5.2"
  }
 },
 "nbformat": 4,
 "nbformat_minor": 2
}
